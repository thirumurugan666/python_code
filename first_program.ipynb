{
 "cells": [
  {
   "cell_type": "code",
   "execution_count": 2,
   "id": "8369cf15",
   "metadata": {},
   "outputs": [
    {
     "name": "stdout",
     "output_type": "stream",
     "text": [
      "Number 1 is : 5\n",
      "Number 2 is : 5\n",
      "Addition of two number is : 10\n"
     ]
    }
   ],
   "source": [
    "Num1=5\n",
    "Num2=5\n",
    "Add=Num1+Num2\n",
    "print(f\"Number 1 is : {Num1}\")\n",
    "print(f\"Number 2 is : {Num2}\")\n",
    "print(f\"Addition of two number is : {Add}\")"
   ]
  },
  {
   "cell_type": "raw",
   "id": "be1ab606",
   "metadata": {},
   "source": []
  }
 ],
 "metadata": {
  "kernelspec": {
   "display_name": "Python 3 (ipykernel)",
   "language": "python",
   "name": "python3"
  },
  "language_info": {
   "codemirror_mode": {
    "name": "ipython",
    "version": 3
   },
   "file_extension": ".py",
   "mimetype": "text/x-python",
   "name": "python",
   "nbconvert_exporter": "python",
   "pygments_lexer": "ipython3",
   "version": "3.11.5"
  }
 },
 "nbformat": 4,
 "nbformat_minor": 5
}
